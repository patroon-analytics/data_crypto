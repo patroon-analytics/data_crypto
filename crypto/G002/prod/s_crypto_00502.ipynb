{
 "cells": [
  {
   "cell_type": "markdown",
   "metadata": {},
   "source": [
    "## Parameters"
   ]
  },
  {
   "cell_type": "code",
   "execution_count": 1,
   "metadata": {},
   "outputs": [],
   "source": [
    "import requests\n",
    "import pandas as pd\n",
    "import json\n",
    "from datetime import datetime, timedelta\n",
    "import pyarrow.feather as feather"
   ]
  },
  {
   "cell_type": "code",
   "execution_count": 2,
   "metadata": {},
   "outputs": [],
   "source": [
    "# p_symbol = \"BTCUSDT\"\n",
    "# p_symbol = \"ETHUSDT\"\n",
    "p_symbol = \"SOLUSDT\"\n",
    "p_url = \"https://api.binance.com/api/v3/depth\"\n",
    "d_params = {\"symbol\" :  p_symbol,\n",
    "            \"limit\" : 5000}"
   ]
  },
  {
   "cell_type": "markdown",
   "metadata": {},
   "source": [
    "## Snapshot"
   ]
  },
  {
   "cell_type": "markdown",
   "metadata": {},
   "source": [
    "#### GET data"
   ]
  },
  {
   "cell_type": "code",
   "execution_count": 3,
   "metadata": {},
   "outputs": [],
   "source": [
    "d01 = requests.get(p_url,d_params).json()\n",
    "# d01"
   ]
  },
  {
   "cell_type": "code",
   "execution_count": 4,
   "metadata": {},
   "outputs": [],
   "source": [
    "# d01"
   ]
  },
  {
   "cell_type": "markdown",
   "metadata": {},
   "source": [
    "#### TRANSFORM data"
   ]
  },
  {
   "cell_type": "code",
   "execution_count": 5,
   "metadata": {},
   "outputs": [],
   "source": [
    "def create_df_l2_02(json_str, timestamp, s_sym_u):\n",
    "    # data_dict = json.loads(json_str)    \n",
    "    data_dict = json_str\n",
    "    last_update_id = data_dict[\"lastUpdateId\"]\n",
    "    bids = pd.DataFrame(data_dict[\"bids\"], columns=[\"Price\", \"Quantity\"])\n",
    "    asks = pd.DataFrame(data_dict[\"asks\"], columns=[\"Price\", \"Quantity\"])\n",
    "    bids[\"Side\"] = \"BID\"\n",
    "    asks[\"Side\"] = \"ASK\"\n",
    "    bids[\"LastUpdateId\"] = last_update_id\n",
    "    asks[\"LastUpdateId\"] = last_update_id\n",
    "\n",
    "    print(\"create_df_l2_02: \")\n",
    "    print(bids.head(2))\n",
    "    print(asks.head(2))\n",
    "    print(len(asks))\n",
    "    print(len(bids))\n",
    "\n",
    "\n",
    "    # Concatenate bids and asks into a single DataFrame\n",
    "    df = pd.concat([bids, asks], ignore_index=True)    \n",
    "    # df[\"Price\"] = df[\"Price\"].astype(float)\n",
    "    # df[\"Quantity\"] = df[\"Quantity\"].astype(float)\n",
    "    df[\"Ticker\"] = s_sym_u\n",
    "    df[\"Timestamp\"] = timestamp\n",
    "    df = df[[\"Ticker\",\"Side\",\"Price\",\"Quantity\",\"Timestamp\",\"LastUpdateId\"]] \n",
    "    print(df.head(2))\n",
    "    display(len(df))\n",
    "\n",
    "    return df"
   ]
  },
  {
   "cell_type": "code",
   "execution_count": 6,
   "metadata": {},
   "outputs": [
    {
     "name": "stdout",
     "output_type": "stream",
     "text": [
      "create_df_l2_02: \n",
      "          Price     Quantity Side  LastUpdateId\n",
      "0  169.06000000  36.56100000  BID   11388108190\n",
      "1  169.05000000  84.95100000  BID   11388108190\n",
      "          Price      Quantity Side  LastUpdateId\n",
      "0  169.07000000  126.88500000  ASK   11388108190\n",
      "1  169.08000000  190.75000000  ASK   11388108190\n",
      "5000\n",
      "5000\n",
      "    Ticker Side         Price     Quantity                  Timestamp  \\\n",
      "0  SOLUSDT  BID  169.06000000  36.56100000 2024-05-24 06:59:13.235431   \n",
      "1  SOLUSDT  BID  169.05000000  84.95100000 2024-05-24 06:59:13.235431   \n",
      "\n",
      "   LastUpdateId  \n",
      "0   11388108190  \n",
      "1   11388108190  \n"
     ]
    },
    {
     "data": {
      "text/plain": [
       "10000"
      ]
     },
     "metadata": {},
     "output_type": "display_data"
    }
   ],
   "source": [
    "current_time = datetime.now()\n",
    "df_snapshot = create_df_l2_02(d01,current_time,d_params['symbol'],)"
   ]
  },
  {
   "cell_type": "code",
   "execution_count": 7,
   "metadata": {},
   "outputs": [
    {
     "data": {
      "text/html": [
       "<div>\n",
       "<style scoped>\n",
       "    .dataframe tbody tr th:only-of-type {\n",
       "        vertical-align: middle;\n",
       "    }\n",
       "\n",
       "    .dataframe tbody tr th {\n",
       "        vertical-align: top;\n",
       "    }\n",
       "\n",
       "    .dataframe thead th {\n",
       "        text-align: right;\n",
       "    }\n",
       "</style>\n",
       "<table border=\"1\" class=\"dataframe\">\n",
       "  <thead>\n",
       "    <tr style=\"text-align: right;\">\n",
       "      <th></th>\n",
       "      <th>Ticker</th>\n",
       "      <th>Side</th>\n",
       "      <th>Price</th>\n",
       "      <th>Quantity</th>\n",
       "      <th>Timestamp</th>\n",
       "      <th>LastUpdateId</th>\n",
       "    </tr>\n",
       "  </thead>\n",
       "  <tbody>\n",
       "    <tr>\n",
       "      <th>0</th>\n",
       "      <td>SOLUSDT</td>\n",
       "      <td>BID</td>\n",
       "      <td>169.06000000</td>\n",
       "      <td>36.56100000</td>\n",
       "      <td>2024-05-24 06:59:13.235431</td>\n",
       "      <td>11388108190</td>\n",
       "    </tr>\n",
       "    <tr>\n",
       "      <th>1</th>\n",
       "      <td>SOLUSDT</td>\n",
       "      <td>BID</td>\n",
       "      <td>169.05000000</td>\n",
       "      <td>84.95100000</td>\n",
       "      <td>2024-05-24 06:59:13.235431</td>\n",
       "      <td>11388108190</td>\n",
       "    </tr>\n",
       "    <tr>\n",
       "      <th>2</th>\n",
       "      <td>SOLUSDT</td>\n",
       "      <td>BID</td>\n",
       "      <td>169.04000000</td>\n",
       "      <td>27.54500000</td>\n",
       "      <td>2024-05-24 06:59:13.235431</td>\n",
       "      <td>11388108190</td>\n",
       "    </tr>\n",
       "    <tr>\n",
       "      <th>3</th>\n",
       "      <td>SOLUSDT</td>\n",
       "      <td>BID</td>\n",
       "      <td>169.03000000</td>\n",
       "      <td>250.17900000</td>\n",
       "      <td>2024-05-24 06:59:13.235431</td>\n",
       "      <td>11388108190</td>\n",
       "    </tr>\n",
       "    <tr>\n",
       "      <th>4</th>\n",
       "      <td>SOLUSDT</td>\n",
       "      <td>BID</td>\n",
       "      <td>169.02000000</td>\n",
       "      <td>349.54000000</td>\n",
       "      <td>2024-05-24 06:59:13.235431</td>\n",
       "      <td>11388108190</td>\n",
       "    </tr>\n",
       "  </tbody>\n",
       "</table>\n",
       "</div>"
      ],
      "text/plain": [
       "    Ticker Side         Price      Quantity                  Timestamp  \\\n",
       "0  SOLUSDT  BID  169.06000000   36.56100000 2024-05-24 06:59:13.235431   \n",
       "1  SOLUSDT  BID  169.05000000   84.95100000 2024-05-24 06:59:13.235431   \n",
       "2  SOLUSDT  BID  169.04000000   27.54500000 2024-05-24 06:59:13.235431   \n",
       "3  SOLUSDT  BID  169.03000000  250.17900000 2024-05-24 06:59:13.235431   \n",
       "4  SOLUSDT  BID  169.02000000  349.54000000 2024-05-24 06:59:13.235431   \n",
       "\n",
       "   LastUpdateId  \n",
       "0   11388108190  \n",
       "1   11388108190  \n",
       "2   11388108190  \n",
       "3   11388108190  \n",
       "4   11388108190  "
      ]
     },
     "metadata": {},
     "output_type": "display_data"
    },
    {
     "name": "stdout",
     "output_type": "stream",
     "text": [
      "<class 'pandas.core.frame.DataFrame'>\n",
      "RangeIndex: 10000 entries, 0 to 9999\n",
      "Data columns (total 6 columns):\n",
      " #   Column        Non-Null Count  Dtype         \n",
      "---  ------        --------------  -----         \n",
      " 0   Ticker        10000 non-null  object        \n",
      " 1   Side          10000 non-null  object        \n",
      " 2   Price         10000 non-null  object        \n",
      " 3   Quantity      10000 non-null  object        \n",
      " 4   Timestamp     10000 non-null  datetime64[us]\n",
      " 5   LastUpdateId  10000 non-null  int64         \n",
      "dtypes: datetime64[us](1), int64(1), object(4)\n",
      "memory usage: 468.9+ KB\n",
      "None\n"
     ]
    }
   ],
   "source": [
    "display(df_snapshot.head())\n",
    "print(df_snapshot.info())"
   ]
  },
  {
   "cell_type": "code",
   "execution_count": 8,
   "metadata": {},
   "outputs": [],
   "source": [
    "p_persist_to = \"001_raw\"\n",
    "p_data = \"l2s\"\n",
    "s_sym_u = d_params['symbol']\n",
    "s_gen = \"G002_00502\""
   ]
  },
  {
   "cell_type": "markdown",
   "metadata": {},
   "source": [
    "#### PERSIST data"
   ]
  },
  {
   "cell_type": "code",
   "execution_count": 9,
   "metadata": {},
   "outputs": [
    {
     "name": "stdout",
     "output_type": "stream",
     "text": [
      "export: ../data/001_raw/l2s_SOLUSDT_G002_00502_20240524_0659 | length: 10000\n"
     ]
    }
   ],
   "source": [
    "filename = f\"../data/{p_persist_to}/{p_data}_{s_sym_u}_{s_gen}_{current_time.strftime('%Y%m%d_%H%M')}\"     \n",
    "feather.write_feather(df_snapshot, filename+\".feather\")            \n",
    "df_snapshot.to_csv(filename+\".csv\", index=False)\n",
    "print(\"export: \"+str(filename)+\" | length: \"+str(len(df_snapshot)))  "
   ]
  },
  {
   "cell_type": "code",
   "execution_count": 10,
   "metadata": {},
   "outputs": [],
   "source": [
    "# filename"
   ]
  },
  {
   "cell_type": "code",
   "execution_count": null,
   "metadata": {},
   "outputs": [],
   "source": []
  },
  {
   "cell_type": "code",
   "execution_count": null,
   "metadata": {},
   "outputs": [],
   "source": []
  }
 ],
 "metadata": {
  "kernelspec": {
   "display_name": ".venv",
   "language": "python",
   "name": "python3"
  },
  "language_info": {
   "codemirror_mode": {
    "name": "ipython",
    "version": 3
   },
   "file_extension": ".py",
   "mimetype": "text/x-python",
   "name": "python",
   "nbconvert_exporter": "python",
   "pygments_lexer": "ipython3",
   "version": "3.10.12"
  }
 },
 "nbformat": 4,
 "nbformat_minor": 2
}
