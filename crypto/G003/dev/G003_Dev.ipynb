{
 "cells": [
  {
   "cell_type": "markdown",
   "metadata": {},
   "source": [
    "## **TESTING:** etl_21 -- TSDB"
   ]
  },
  {
   "cell_type": "code",
   "execution_count": 2,
   "metadata": {},
   "outputs": [],
   "source": [
    "import os\n",
    "import pandas as pd\n",
    "import pyarrow\n",
    "import pytz\n",
    "from datetime import datetime, timedelta\n",
    "import pyarrow.feather as feather\n",
    "import numpy as np\n",
    "pd.set_option('display.max_columns', None)\n",
    "import matplotlib.pyplot as plt\n",
    "from pandasql import sqldf\n",
    "import sqlite3\n",
    "import argparse\n",
    "import shutil\n",
    "import psycopg2\n",
    "from sqlalchemy import create_engine\n",
    "\n",
    "\n",
    "pd.set_option('display.max_columns', None)\n",
    "pd.set_option('display.max_colwidth', None)\n"
   ]
  },
  {
   "cell_type": "code",
   "execution_count": null,
   "metadata": {},
   "outputs": [],
   "source": []
  },
  {
   "cell_type": "markdown",
   "metadata": {},
   "source": [
    "### **CONENCTION**"
   ]
  },
  {
   "cell_type": "code",
   "execution_count": 3,
   "metadata": {},
   "outputs": [],
   "source": [
    "CONNECTION = \"postgres://tsdbadmin:>X>#h2lWqXESlyGd}mj2NPDlB@esd7mq3z84.dts890uzaz.tsdb.cloud.timescale.com:37281/tsdb?sslmode=require\""
   ]
  },
  {
   "cell_type": "markdown",
   "metadata": {},
   "source": [
    "Using psycopg2"
   ]
  },
  {
   "cell_type": "code",
   "execution_count": 4,
   "metadata": {},
   "outputs": [],
   "source": [
    "conn = psycopg2.connect(CONNECTION)"
   ]
  },
  {
   "cell_type": "markdown",
   "metadata": {},
   "source": [
    "Using SQLAlchemy"
   ]
  },
  {
   "cell_type": "code",
   "execution_count": 24,
   "metadata": {},
   "outputs": [],
   "source": [
    "# conn = create_engine(CONNECTION)"
   ]
  },
  {
   "cell_type": "markdown",
   "metadata": {},
   "source": [
    "Convert History to SCD"
   ]
  },
  {
   "cell_type": "markdown",
   "metadata": {},
   "source": [
    "# **CHECKS** Scope"
   ]
  },
  {
   "cell_type": "code",
   "execution_count": 8,
   "metadata": {},
   "outputs": [],
   "source": [
    "l_check_prices = ['61277.43000000',\n",
    " '61111.20000000',\n",
    " '61268.29000000',\n",
    " '61132.62000000',\n",
    " '61299.90000000',\n",
    " '61058.75000000',\n",
    " '61056.20000000',\n",
    " '61223.36000000',\n",
    " '61065.03000000',\n",
    " '61227.34000000',\n",
    " '61056.70000000',\n",
    " '61237.96000000',\n",
    " '61170.44000000',\n",
    " '61136.34000000',\n",
    " '61222.59000000',\n",
    " '61111.51000000',\n",
    " '61227.27000000',\n",
    " '61158.14000000',\n",
    " '61303.54000000',\n",
    " '61047.88000000']"
   ]
  },
  {
   "cell_type": "markdown",
   "metadata": {},
   "source": [
    "# **CHECKS** Database"
   ]
  },
  {
   "cell_type": "markdown",
   "metadata": {},
   "source": [
    "### Tables"
   ]
  },
  {
   "cell_type": "code",
   "execution_count": 6,
   "metadata": {},
   "outputs": [
    {
     "name": "stdout",
     "output_type": "stream",
     "text": [
      "public.l2_history_ask\n",
      "public.l2_history_bid\n",
      "public.l2_snapshot_ask\n",
      "public.l2_snapshot_bid\n",
      "public.logs\n"
     ]
    }
   ],
   "source": [
    "import psycopg2\n",
    "\n",
    "def list_tables(conn):\n",
    "    # Create a cursor object\n",
    "    cursor = conn.cursor()\n",
    "\n",
    "    # Execute the query to list all tables\n",
    "    query = \"\"\"\n",
    "    SELECT table_schema, table_name\n",
    "    FROM information_schema.tables\n",
    "    WHERE table_type = 'BASE TABLE' and table_schema = 'public'\n",
    "    ORDER BY table_schema, table_name;\n",
    "    \"\"\"\n",
    "    cursor.execute(query)\n",
    "\n",
    "    # Fetch all the results\n",
    "    tables = cursor.fetchall()\n",
    "\n",
    "    # Print the results\n",
    "    for table in tables:\n",
    "        # print(table)\n",
    "        print(f\"{table[0]}.{table[1]}\")\n",
    "\n",
    "    # Close the cursor and connection\n",
    "    cursor.close()\n",
    "    # conn.close()\n",
    "\n",
    "list_tables(conn)\n"
   ]
  },
  {
   "cell_type": "markdown",
   "metadata": {},
   "source": [
    "Convert History to SCD"
   ]
  },
  {
   "cell_type": "markdown",
   "metadata": {},
   "source": [
    "### Snapshot"
   ]
  },
  {
   "cell_type": "code",
   "execution_count": 22,
   "metadata": {},
   "outputs": [
    {
     "name": "stderr",
     "output_type": "stream",
     "text": [
      "/tmp/ipykernel_49309/2670138738.py:5: UserWarning: pandas only supports SQLAlchemy connectable (engine/connection) or database string URI or sqlite3 DBAPI2 connection. Other DBAPI2 objects are not tested. Please consider using SQLAlchemy.\n",
      "  s01_01 = pd.read_sql_query(sql_s01, conn)\n"
     ]
    },
    {
     "data": {
      "text/html": [
       "<div>\n",
       "<style scoped>\n",
       "    .dataframe tbody tr th:only-of-type {\n",
       "        vertical-align: middle;\n",
       "    }\n",
       "\n",
       "    .dataframe tbody tr th {\n",
       "        vertical-align: top;\n",
       "    }\n",
       "\n",
       "    .dataframe thead th {\n",
       "        text-align: right;\n",
       "    }\n",
       "</style>\n",
       "<table border=\"1\" class=\"dataframe\">\n",
       "  <thead>\n",
       "    <tr style=\"text-align: right;\">\n",
       "      <th></th>\n",
       "      <th>ticker</th>\n",
       "      <th>side</th>\n",
       "      <th>price</th>\n",
       "      <th>px_00</th>\n",
       "      <th>quantity</th>\n",
       "      <th>qx_00</th>\n",
       "      <th>timestamp</th>\n",
       "      <th>lastupdateid</th>\n",
       "    </tr>\n",
       "  </thead>\n",
       "  <tbody>\n",
       "  </tbody>\n",
       "</table>\n",
       "</div>"
      ],
      "text/plain": [
       "Empty DataFrame\n",
       "Columns: [ticker, side, price, px_00, quantity, qx_00, timestamp, lastupdateid]\n",
       "Index: []"
      ]
     },
     "metadata": {},
     "output_type": "display_data"
    }
   ],
   "source": [
    "# Define the query\n",
    "sql_s01 = 'SELECT * FROM l2_snapshot_ask'\n",
    "\n",
    "# Execute the query and load the data into a pandas DataFrame\n",
    "s01_01 = pd.read_sql_query(sql_s01, conn)\n",
    "s01_02 = s01_01[s01_01['price'].isin(l_check_prices)].copy()\n",
    "\n",
    "display(s01_02)"
   ]
  },
  {
   "cell_type": "markdown",
   "metadata": {},
   "source": [
    "### History"
   ]
  },
  {
   "cell_type": "code",
   "execution_count": 21,
   "metadata": {},
   "outputs": [
    {
     "name": "stderr",
     "output_type": "stream",
     "text": [
      "/tmp/ipykernel_49309/3255620334.py:5: UserWarning: pandas only supports SQLAlchemy connectable (engine/connection) or database string URI or sqlite3 DBAPI2 connection. Other DBAPI2 objects are not tested. Please consider using SQLAlchemy.\n",
      "  h01_01 = pd.read_sql_query(sql_h01, conn)\n"
     ]
    },
    {
     "data": {
      "text/html": [
       "<div>\n",
       "<style scoped>\n",
       "    .dataframe tbody tr th:only-of-type {\n",
       "        vertical-align: middle;\n",
       "    }\n",
       "\n",
       "    .dataframe tbody tr th {\n",
       "        vertical-align: top;\n",
       "    }\n",
       "\n",
       "    .dataframe thead th {\n",
       "        text-align: right;\n",
       "    }\n",
       "</style>\n",
       "<table border=\"1\" class=\"dataframe\">\n",
       "  <thead>\n",
       "    <tr style=\"text-align: right;\">\n",
       "      <th></th>\n",
       "      <th>ticker</th>\n",
       "      <th>side</th>\n",
       "      <th>price</th>\n",
       "      <th>px_00</th>\n",
       "      <th>quantity</th>\n",
       "      <th>qx_00</th>\n",
       "      <th>timestamp</th>\n",
       "      <th>lastupdateid</th>\n",
       "      <th>scd_from_date</th>\n",
       "      <th>scd_to_date</th>\n",
       "    </tr>\n",
       "  </thead>\n",
       "  <tbody>\n",
       "  </tbody>\n",
       "</table>\n",
       "</div>"
      ],
      "text/plain": [
       "Empty DataFrame\n",
       "Columns: [ticker, side, price, px_00, quantity, qx_00, timestamp, lastupdateid, scd_from_date, scd_to_date]\n",
       "Index: []"
      ]
     },
     "metadata": {},
     "output_type": "display_data"
    }
   ],
   "source": [
    "# Define the query\n",
    "sql_h01 = 'SELECT * FROM l2_history_ask'\n",
    "\n",
    "# Execute the query and load the data into a pandas DataFrame\n",
    "h01_01 = pd.read_sql_query(sql_h01, conn)\n",
    "h01_02 = h01_01[h01_01['price'].isin(l_check_prices)]\n",
    "display(h01_02)"
   ]
  },
  {
   "cell_type": "code",
   "execution_count": null,
   "metadata": {},
   "outputs": [],
   "source": []
  },
  {
   "cell_type": "markdown",
   "metadata": {},
   "source": [
    "# **CHECKS** Uniqueness"
   ]
  },
  {
   "cell_type": "code",
   "execution_count": null,
   "metadata": {},
   "outputs": [],
   "source": [
    "\n",
    "    db_snap_02 = pd.read_sql_query(\n",
    "        \"\"\"\n",
    "        SELECT  lastupdateid\n",
    "        ,count(distinct side) as D_Side\n",
    "        FROM l2_snapshot\n",
    "        GROUP BY lastupdateid \n",
    "        \"\"\"\n",
    "        , conn)\n",
    "    db_snap_02.D_Side.value_counts()    \n"
   ]
  },
  {
   "cell_type": "markdown",
   "metadata": {},
   "source": [
    "# **CHECKS** Logs"
   ]
  },
  {
   "cell_type": "code",
   "execution_count": 28,
   "metadata": {},
   "outputs": [
    {
     "name": "stdout",
     "output_type": "stream",
     "text": [
      "level\n",
      "INFO     9\n",
      "ERROR    9\n",
      "Name: count, dtype: int64\n",
      "---------------------------------------------------------------\n"
     ]
    },
    {
     "name": "stderr",
     "output_type": "stream",
     "text": [
      "/tmp/ipykernel_49309/2746400065.py:6: UserWarning: pandas only supports SQLAlchemy connectable (engine/connection) or database string URI or sqlite3 DBAPI2 connection. Other DBAPI2 objects are not tested. Please consider using SQLAlchemy.\n",
      "  db_logs_01 = pd.read_sql_query(sql_logs, conn)\n"
     ]
    }
   ],
   "source": [
    "# Connect to the SQLite database\n",
    "# Define the query\n",
    "sql_logs = 'SELECT * FROM logs'\n",
    "\n",
    "# Execute the query and load the data into a pandas DataFrame\n",
    "db_logs_01 = pd.read_sql_query(sql_logs, conn)\n",
    "\n",
    "# Display the DataFrame\n",
    "print(db_logs_01.level.value_counts())\n",
    "print(\"---------------------------------------------------------------\")\n",
    "# display(db_logs_01)"
   ]
  },
  {
   "cell_type": "code",
   "execution_count": 29,
   "metadata": {},
   "outputs": [
    {
     "data": {
      "text/html": [
       "<div>\n",
       "<style scoped>\n",
       "    .dataframe tbody tr th:only-of-type {\n",
       "        vertical-align: middle;\n",
       "    }\n",
       "\n",
       "    .dataframe tbody tr th {\n",
       "        vertical-align: top;\n",
       "    }\n",
       "\n",
       "    .dataframe thead th {\n",
       "        text-align: right;\n",
       "    }\n",
       "</style>\n",
       "<table border=\"1\" class=\"dataframe\">\n",
       "  <thead>\n",
       "    <tr style=\"text-align: right;\">\n",
       "      <th></th>\n",
       "      <th>timestamp</th>\n",
       "      <th>level</th>\n",
       "      <th>p_db_ver</th>\n",
       "      <th>message</th>\n",
       "    </tr>\n",
       "  </thead>\n",
       "  <tbody>\n",
       "    <tr>\n",
       "      <th>0</th>\n",
       "      <td>2024-05-24 23:20:56.450389</td>\n",
       "      <td>INFO</td>\n",
       "      <td>20_load_snapshot.py</td>\n",
       "      <td>***main*** LOADING to Database</td>\n",
       "    </tr>\n",
       "    <tr>\n",
       "      <th>1</th>\n",
       "      <td>2024-05-24 23:20:56.501350</td>\n",
       "      <td>ERROR</td>\n",
       "      <td>20_load_snapshot.py</td>\n",
       "      <td>Error in main function: name 'p_db_ver' is not defined</td>\n",
       "    </tr>\n",
       "    <tr>\n",
       "      <th>2</th>\n",
       "      <td>2024-05-24 23:25:54.897077</td>\n",
       "      <td>INFO</td>\n",
       "      <td>20_load_snapshot.py</td>\n",
       "      <td>***main*** LOADING to Database</td>\n",
       "    </tr>\n",
       "    <tr>\n",
       "      <th>3</th>\n",
       "      <td>2024-05-24 23:25:54.928190</td>\n",
       "      <td>ERROR</td>\n",
       "      <td>20_load_snapshot.py</td>\n",
       "      <td>Error in main function: name 'p_db_ver' is not defined</td>\n",
       "    </tr>\n",
       "    <tr>\n",
       "      <th>4</th>\n",
       "      <td>2024-05-24 23:28:35.237079</td>\n",
       "      <td>INFO</td>\n",
       "      <td>20_load_snapshot.py</td>\n",
       "      <td>***main*** LOADING to Database</td>\n",
       "    </tr>\n",
       "  </tbody>\n",
       "</table>\n",
       "</div>"
      ],
      "text/plain": [
       "                    timestamp  level             p_db_ver  \\\n",
       "0  2024-05-24 23:20:56.450389   INFO  20_load_snapshot.py   \n",
       "1  2024-05-24 23:20:56.501350  ERROR  20_load_snapshot.py   \n",
       "2  2024-05-24 23:25:54.897077   INFO  20_load_snapshot.py   \n",
       "3  2024-05-24 23:25:54.928190  ERROR  20_load_snapshot.py   \n",
       "4  2024-05-24 23:28:35.237079   INFO  20_load_snapshot.py   \n",
       "\n",
       "                                                  message  \n",
       "0                          ***main*** LOADING to Database  \n",
       "1  Error in main function: name 'p_db_ver' is not defined  \n",
       "2                          ***main*** LOADING to Database  \n",
       "3  Error in main function: name 'p_db_ver' is not defined  \n",
       "4                          ***main*** LOADING to Database  "
      ]
     },
     "metadata": {},
     "output_type": "display_data"
    },
    {
     "data": {
      "text/html": [
       "<div>\n",
       "<style scoped>\n",
       "    .dataframe tbody tr th:only-of-type {\n",
       "        vertical-align: middle;\n",
       "    }\n",
       "\n",
       "    .dataframe tbody tr th {\n",
       "        vertical-align: top;\n",
       "    }\n",
       "\n",
       "    .dataframe thead th {\n",
       "        text-align: right;\n",
       "    }\n",
       "</style>\n",
       "<table border=\"1\" class=\"dataframe\">\n",
       "  <thead>\n",
       "    <tr style=\"text-align: right;\">\n",
       "      <th></th>\n",
       "      <th>timestamp</th>\n",
       "      <th>level</th>\n",
       "      <th>p_db_ver</th>\n",
       "      <th>message</th>\n",
       "    </tr>\n",
       "  </thead>\n",
       "  <tbody>\n",
       "    <tr>\n",
       "      <th>13</th>\n",
       "      <td>2024-05-24 23:33:12.476985</td>\n",
       "      <td>ERROR</td>\n",
       "      <td>20_load_snapshot.py</td>\n",
       "      <td>Error in main function: name 'p_db_ver' is not defined</td>\n",
       "    </tr>\n",
       "    <tr>\n",
       "      <th>14</th>\n",
       "      <td>2024-05-24 23:33:34.681238</td>\n",
       "      <td>INFO</td>\n",
       "      <td>20_load_snapshot.py</td>\n",
       "      <td>***main*** LOADING to Database</td>\n",
       "    </tr>\n",
       "    <tr>\n",
       "      <th>15</th>\n",
       "      <td>2024-05-24 23:33:34.711472</td>\n",
       "      <td>ERROR</td>\n",
       "      <td>20_load_snapshot.py</td>\n",
       "      <td>Error in main function: name 'p_db_ver' is not defined</td>\n",
       "    </tr>\n",
       "    <tr>\n",
       "      <th>16</th>\n",
       "      <td>2024-05-24 23:36:46.255040</td>\n",
       "      <td>INFO</td>\n",
       "      <td>20_load_snapshot.py</td>\n",
       "      <td>***main*** LOADING to Database</td>\n",
       "    </tr>\n",
       "    <tr>\n",
       "      <th>17</th>\n",
       "      <td>2024-05-24 23:36:46.279400</td>\n",
       "      <td>ERROR</td>\n",
       "      <td>20_load_snapshot.py</td>\n",
       "      <td>Error in main function: f_ETL_Init_01() missing 1 required positional argument: 'conn'</td>\n",
       "    </tr>\n",
       "  </tbody>\n",
       "</table>\n",
       "</div>"
      ],
      "text/plain": [
       "                     timestamp  level             p_db_ver  \\\n",
       "13  2024-05-24 23:33:12.476985  ERROR  20_load_snapshot.py   \n",
       "14  2024-05-24 23:33:34.681238   INFO  20_load_snapshot.py   \n",
       "15  2024-05-24 23:33:34.711472  ERROR  20_load_snapshot.py   \n",
       "16  2024-05-24 23:36:46.255040   INFO  20_load_snapshot.py   \n",
       "17  2024-05-24 23:36:46.279400  ERROR  20_load_snapshot.py   \n",
       "\n",
       "                                                                                   message  \n",
       "13                                  Error in main function: name 'p_db_ver' is not defined  \n",
       "14                                                          ***main*** LOADING to Database  \n",
       "15                                  Error in main function: name 'p_db_ver' is not defined  \n",
       "16                                                          ***main*** LOADING to Database  \n",
       "17  Error in main function: f_ETL_Init_01() missing 1 required positional argument: 'conn'  "
      ]
     },
     "metadata": {},
     "output_type": "display_data"
    }
   ],
   "source": [
    "display(db_logs_01.head())\n",
    "display(db_logs_01.tail())"
   ]
  },
  {
   "cell_type": "code",
   "execution_count": null,
   "metadata": {},
   "outputs": [],
   "source": []
  },
  {
   "cell_type": "code",
   "execution_count": 30,
   "metadata": {},
   "outputs": [
    {
     "data": {
      "text/html": [
       "<div>\n",
       "<style scoped>\n",
       "    .dataframe tbody tr th:only-of-type {\n",
       "        vertical-align: middle;\n",
       "    }\n",
       "\n",
       "    .dataframe tbody tr th {\n",
       "        vertical-align: top;\n",
       "    }\n",
       "\n",
       "    .dataframe thead th {\n",
       "        text-align: right;\n",
       "    }\n",
       "</style>\n",
       "<table border=\"1\" class=\"dataframe\">\n",
       "  <thead>\n",
       "    <tr style=\"text-align: right;\">\n",
       "      <th></th>\n",
       "      <th>timestamp</th>\n",
       "      <th>level</th>\n",
       "      <th>p_db_ver</th>\n",
       "      <th>message</th>\n",
       "    </tr>\n",
       "  </thead>\n",
       "  <tbody>\n",
       "    <tr>\n",
       "      <th>0</th>\n",
       "      <td>2024-05-24 23:20:56.450389</td>\n",
       "      <td>INFO</td>\n",
       "      <td>20_load_snapshot.py</td>\n",
       "      <td>***main*** LOADING to Database</td>\n",
       "    </tr>\n",
       "    <tr>\n",
       "      <th>1</th>\n",
       "      <td>2024-05-24 23:20:56.501350</td>\n",
       "      <td>ERROR</td>\n",
       "      <td>20_load_snapshot.py</td>\n",
       "      <td>Error in main function: name 'p_db_ver' is not defined</td>\n",
       "    </tr>\n",
       "    <tr>\n",
       "      <th>2</th>\n",
       "      <td>2024-05-24 23:25:54.897077</td>\n",
       "      <td>INFO</td>\n",
       "      <td>20_load_snapshot.py</td>\n",
       "      <td>***main*** LOADING to Database</td>\n",
       "    </tr>\n",
       "    <tr>\n",
       "      <th>3</th>\n",
       "      <td>2024-05-24 23:25:54.928190</td>\n",
       "      <td>ERROR</td>\n",
       "      <td>20_load_snapshot.py</td>\n",
       "      <td>Error in main function: name 'p_db_ver' is not defined</td>\n",
       "    </tr>\n",
       "    <tr>\n",
       "      <th>4</th>\n",
       "      <td>2024-05-24 23:28:35.237079</td>\n",
       "      <td>INFO</td>\n",
       "      <td>20_load_snapshot.py</td>\n",
       "      <td>***main*** LOADING to Database</td>\n",
       "    </tr>\n",
       "    <tr>\n",
       "      <th>5</th>\n",
       "      <td>2024-05-24 23:28:35.267089</td>\n",
       "      <td>ERROR</td>\n",
       "      <td>20_load_snapshot.py</td>\n",
       "      <td>Error in main function: name 'p_db_ver' is not defined</td>\n",
       "    </tr>\n",
       "    <tr>\n",
       "      <th>6</th>\n",
       "      <td>2024-05-24 23:30:57.591233</td>\n",
       "      <td>INFO</td>\n",
       "      <td>20_load_snapshot.py</td>\n",
       "      <td>***main*** LOADING to Database</td>\n",
       "    </tr>\n",
       "    <tr>\n",
       "      <th>7</th>\n",
       "      <td>2024-05-24 23:30:57.624228</td>\n",
       "      <td>ERROR</td>\n",
       "      <td>20_load_snapshot.py</td>\n",
       "      <td>Error in main function: name 'p_db_ver' is not defined</td>\n",
       "    </tr>\n",
       "    <tr>\n",
       "      <th>8</th>\n",
       "      <td>2024-05-24 23:32:21.381040</td>\n",
       "      <td>INFO</td>\n",
       "      <td>20_load_snapshot.py</td>\n",
       "      <td>***main*** LOADING to Database</td>\n",
       "    </tr>\n",
       "    <tr>\n",
       "      <th>9</th>\n",
       "      <td>2024-05-24 23:32:21.413184</td>\n",
       "      <td>ERROR</td>\n",
       "      <td>20_load_snapshot.py</td>\n",
       "      <td>Error in main function: name 'p_db_ver' is not defined</td>\n",
       "    </tr>\n",
       "    <tr>\n",
       "      <th>10</th>\n",
       "      <td>2024-05-24 23:32:49.384745</td>\n",
       "      <td>INFO</td>\n",
       "      <td>20_load_snapshot.py</td>\n",
       "      <td>***main*** LOADING to Database</td>\n",
       "    </tr>\n",
       "    <tr>\n",
       "      <th>11</th>\n",
       "      <td>2024-05-24 23:32:49.419714</td>\n",
       "      <td>ERROR</td>\n",
       "      <td>20_load_snapshot.py</td>\n",
       "      <td>Error in main function: name 'p_db_ver' is not defined</td>\n",
       "    </tr>\n",
       "    <tr>\n",
       "      <th>12</th>\n",
       "      <td>2024-05-24 23:33:12.439976</td>\n",
       "      <td>INFO</td>\n",
       "      <td>20_load_snapshot.py</td>\n",
       "      <td>***main*** LOADING to Database</td>\n",
       "    </tr>\n",
       "    <tr>\n",
       "      <th>13</th>\n",
       "      <td>2024-05-24 23:33:12.476985</td>\n",
       "      <td>ERROR</td>\n",
       "      <td>20_load_snapshot.py</td>\n",
       "      <td>Error in main function: name 'p_db_ver' is not defined</td>\n",
       "    </tr>\n",
       "    <tr>\n",
       "      <th>14</th>\n",
       "      <td>2024-05-24 23:33:34.681238</td>\n",
       "      <td>INFO</td>\n",
       "      <td>20_load_snapshot.py</td>\n",
       "      <td>***main*** LOADING to Database</td>\n",
       "    </tr>\n",
       "    <tr>\n",
       "      <th>15</th>\n",
       "      <td>2024-05-24 23:33:34.711472</td>\n",
       "      <td>ERROR</td>\n",
       "      <td>20_load_snapshot.py</td>\n",
       "      <td>Error in main function: name 'p_db_ver' is not defined</td>\n",
       "    </tr>\n",
       "    <tr>\n",
       "      <th>16</th>\n",
       "      <td>2024-05-24 23:36:46.255040</td>\n",
       "      <td>INFO</td>\n",
       "      <td>20_load_snapshot.py</td>\n",
       "      <td>***main*** LOADING to Database</td>\n",
       "    </tr>\n",
       "    <tr>\n",
       "      <th>17</th>\n",
       "      <td>2024-05-24 23:36:46.279400</td>\n",
       "      <td>ERROR</td>\n",
       "      <td>20_load_snapshot.py</td>\n",
       "      <td>Error in main function: f_ETL_Init_01() missing 1 required positional argument: 'conn'</td>\n",
       "    </tr>\n",
       "  </tbody>\n",
       "</table>\n",
       "</div>"
      ],
      "text/plain": [
       "                     timestamp  level             p_db_ver  \\\n",
       "0   2024-05-24 23:20:56.450389   INFO  20_load_snapshot.py   \n",
       "1   2024-05-24 23:20:56.501350  ERROR  20_load_snapshot.py   \n",
       "2   2024-05-24 23:25:54.897077   INFO  20_load_snapshot.py   \n",
       "3   2024-05-24 23:25:54.928190  ERROR  20_load_snapshot.py   \n",
       "4   2024-05-24 23:28:35.237079   INFO  20_load_snapshot.py   \n",
       "5   2024-05-24 23:28:35.267089  ERROR  20_load_snapshot.py   \n",
       "6   2024-05-24 23:30:57.591233   INFO  20_load_snapshot.py   \n",
       "7   2024-05-24 23:30:57.624228  ERROR  20_load_snapshot.py   \n",
       "8   2024-05-24 23:32:21.381040   INFO  20_load_snapshot.py   \n",
       "9   2024-05-24 23:32:21.413184  ERROR  20_load_snapshot.py   \n",
       "10  2024-05-24 23:32:49.384745   INFO  20_load_snapshot.py   \n",
       "11  2024-05-24 23:32:49.419714  ERROR  20_load_snapshot.py   \n",
       "12  2024-05-24 23:33:12.439976   INFO  20_load_snapshot.py   \n",
       "13  2024-05-24 23:33:12.476985  ERROR  20_load_snapshot.py   \n",
       "14  2024-05-24 23:33:34.681238   INFO  20_load_snapshot.py   \n",
       "15  2024-05-24 23:33:34.711472  ERROR  20_load_snapshot.py   \n",
       "16  2024-05-24 23:36:46.255040   INFO  20_load_snapshot.py   \n",
       "17  2024-05-24 23:36:46.279400  ERROR  20_load_snapshot.py   \n",
       "\n",
       "                                                                                   message  \n",
       "0                                                           ***main*** LOADING to Database  \n",
       "1                                   Error in main function: name 'p_db_ver' is not defined  \n",
       "2                                                           ***main*** LOADING to Database  \n",
       "3                                   Error in main function: name 'p_db_ver' is not defined  \n",
       "4                                                           ***main*** LOADING to Database  \n",
       "5                                   Error in main function: name 'p_db_ver' is not defined  \n",
       "6                                                           ***main*** LOADING to Database  \n",
       "7                                   Error in main function: name 'p_db_ver' is not defined  \n",
       "8                                                           ***main*** LOADING to Database  \n",
       "9                                   Error in main function: name 'p_db_ver' is not defined  \n",
       "10                                                          ***main*** LOADING to Database  \n",
       "11                                  Error in main function: name 'p_db_ver' is not defined  \n",
       "12                                                          ***main*** LOADING to Database  \n",
       "13                                  Error in main function: name 'p_db_ver' is not defined  \n",
       "14                                                          ***main*** LOADING to Database  \n",
       "15                                  Error in main function: name 'p_db_ver' is not defined  \n",
       "16                                                          ***main*** LOADING to Database  \n",
       "17  Error in main function: f_ETL_Init_01() missing 1 required positional argument: 'conn'  "
      ]
     },
     "execution_count": 30,
     "metadata": {},
     "output_type": "execute_result"
    }
   ],
   "source": [
    "db_logs_01"
   ]
  }
 ],
 "metadata": {
  "kernelspec": {
   "display_name": ".venv",
   "language": "python",
   "name": "python3"
  },
  "language_info": {
   "codemirror_mode": {
    "name": "ipython",
    "version": 3
   },
   "file_extension": ".py",
   "mimetype": "text/x-python",
   "name": "python",
   "nbconvert_exporter": "python",
   "pygments_lexer": "ipython3",
   "version": "3.10.12"
  }
 },
 "nbformat": 4,
 "nbformat_minor": 2
}
